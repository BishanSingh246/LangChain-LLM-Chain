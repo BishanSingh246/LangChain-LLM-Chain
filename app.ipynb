{
 "cells": [
  {
   "cell_type": "code",
   "execution_count": 38,
   "metadata": {},
   "outputs": [
    {
     "name": "stdout",
     "output_type": "stream",
     "text": [
      "Requirement already satisfied: langchain==0.0.206 in c:\\users\\mr darklord\\appdata\\local\\programs\\python\\python310\\lib\\site-packages (from -r requirements.txt (line 1)) (0.0.206)\n",
      "Requirement already satisfied: openai==0.27.8 in c:\\users\\mr darklord\\appdata\\local\\programs\\python\\python310\\lib\\site-packages (from -r requirements.txt (line 2)) (0.27.8)\n",
      "Requirement already satisfied: PyYAML>=5.4.1 in c:\\users\\mr darklord\\appdata\\local\\programs\\python\\python310\\lib\\site-packages (from langchain==0.0.206->-r requirements.txt (line 1)) (6.0)\n",
      "Requirement already satisfied: SQLAlchemy<3,>=1.4 in c:\\users\\mr darklord\\appdata\\local\\programs\\python\\python310\\lib\\site-packages (from langchain==0.0.206->-r requirements.txt (line 1)) (1.4.48)\n",
      "Requirement already satisfied: aiohttp<4.0.0,>=3.8.3 in c:\\users\\mr darklord\\appdata\\local\\programs\\python\\python310\\lib\\site-packages (from langchain==0.0.206->-r requirements.txt (line 1)) (3.8.4)\n",
      "Requirement already satisfied: async-timeout<5.0.0,>=4.0.0 in c:\\users\\mr darklord\\appdata\\local\\programs\\python\\python310\\lib\\site-packages (from langchain==0.0.206->-r requirements.txt (line 1)) (4.0.2)\n",
      "Requirement already satisfied: dataclasses-json<0.6.0,>=0.5.7 in c:\\users\\mr darklord\\appdata\\local\\programs\\python\\python310\\lib\\site-packages (from langchain==0.0.206->-r requirements.txt (line 1)) (0.5.7)\n",
      "Requirement already satisfied: langchainplus-sdk>=0.0.13 in c:\\users\\mr darklord\\appdata\\local\\programs\\python\\python310\\lib\\site-packages (from langchain==0.0.206->-r requirements.txt (line 1)) (0.0.16)\n",
      "Requirement already satisfied: numexpr<3.0.0,>=2.8.4 in c:\\users\\mr darklord\\appdata\\local\\programs\\python\\python310\\lib\\site-packages (from langchain==0.0.206->-r requirements.txt (line 1)) (2.8.4)\n",
      "Requirement already satisfied: numpy<2,>=1 in c:\\users\\mr darklord\\appdata\\local\\programs\\python\\python310\\lib\\site-packages (from langchain==0.0.206->-r requirements.txt (line 1)) (1.23.5)\n",
      "Requirement already satisfied: openapi-schema-pydantic<2.0,>=1.2 in c:\\users\\mr darklord\\appdata\\local\\programs\\python\\python310\\lib\\site-packages (from langchain==0.0.206->-r requirements.txt (line 1)) (1.2.4)\n",
      "Requirement already satisfied: pydantic<2,>=1 in c:\\users\\mr darklord\\appdata\\local\\programs\\python\\python310\\lib\\site-packages (from langchain==0.0.206->-r requirements.txt (line 1)) (1.10.9)\n",
      "Requirement already satisfied: requests<3,>=2 in c:\\users\\mr darklord\\appdata\\local\\programs\\python\\python310\\lib\\site-packages (from langchain==0.0.206->-r requirements.txt (line 1)) (2.30.0)\n",
      "Requirement already satisfied: tenacity<9.0.0,>=8.1.0 in c:\\users\\mr darklord\\appdata\\local\\programs\\python\\python310\\lib\\site-packages (from langchain==0.0.206->-r requirements.txt (line 1)) (8.2.2)\n",
      "Requirement already satisfied: tqdm in c:\\users\\mr darklord\\appdata\\local\\programs\\python\\python310\\lib\\site-packages (from openai==0.27.8->-r requirements.txt (line 2)) (4.65.0)\n",
      "Requirement already satisfied: attrs>=17.3.0 in c:\\users\\mr darklord\\appdata\\local\\programs\\python\\python310\\lib\\site-packages (from aiohttp<4.0.0,>=3.8.3->langchain==0.0.206->-r requirements.txt (line 1)) (23.1.0)\n",
      "Requirement already satisfied: charset-normalizer<4.0,>=2.0 in c:\\users\\mr darklord\\appdata\\local\\programs\\python\\python310\\lib\\site-packages (from aiohttp<4.0.0,>=3.8.3->langchain==0.0.206->-r requirements.txt (line 1)) (3.1.0)\n",
      "Requirement already satisfied: multidict<7.0,>=4.5 in c:\\users\\mr darklord\\appdata\\local\\programs\\python\\python310\\lib\\site-packages (from aiohttp<4.0.0,>=3.8.3->langchain==0.0.206->-r requirements.txt (line 1)) (6.0.4)\n",
      "Requirement already satisfied: yarl<2.0,>=1.0 in c:\\users\\mr darklord\\appdata\\local\\programs\\python\\python310\\lib\\site-packages (from aiohttp<4.0.0,>=3.8.3->langchain==0.0.206->-r requirements.txt (line 1)) (1.9.2)\n",
      "Requirement already satisfied: frozenlist>=1.1.1 in c:\\users\\mr darklord\\appdata\\local\\programs\\python\\python310\\lib\\site-packages (from aiohttp<4.0.0,>=3.8.3->langchain==0.0.206->-r requirements.txt (line 1)) (1.3.3)\n",
      "Requirement already satisfied: aiosignal>=1.1.2 in c:\\users\\mr darklord\\appdata\\local\\programs\\python\\python310\\lib\\site-packages (from aiohttp<4.0.0,>=3.8.3->langchain==0.0.206->-r requirements.txt (line 1)) (1.3.1)\n",
      "Requirement already satisfied: marshmallow<4.0.0,>=3.3.0 in c:\\users\\mr darklord\\appdata\\local\\programs\\python\\python310\\lib\\site-packages (from dataclasses-json<0.6.0,>=0.5.7->langchain==0.0.206->-r requirements.txt (line 1)) (3.19.0)\n",
      "Requirement already satisfied: marshmallow-enum<2.0.0,>=1.5.1 in c:\\users\\mr darklord\\appdata\\local\\programs\\python\\python310\\lib\\site-packages (from dataclasses-json<0.6.0,>=0.5.7->langchain==0.0.206->-r requirements.txt (line 1)) (1.5.1)\n",
      "Requirement already satisfied: typing-inspect>=0.4.0 in c:\\users\\mr darklord\\appdata\\local\\programs\\python\\python310\\lib\\site-packages (from dataclasses-json<0.6.0,>=0.5.7->langchain==0.0.206->-r requirements.txt (line 1)) (0.8.0)\n",
      "Requirement already satisfied: typing-extensions>=4.2.0 in c:\\users\\mr darklord\\appdata\\local\\programs\\python\\python310\\lib\\site-packages (from pydantic<2,>=1->langchain==0.0.206->-r requirements.txt (line 1)) (4.5.0)\n",
      "Requirement already satisfied: idna<4,>=2.5 in c:\\users\\mr darklord\\appdata\\local\\programs\\python\\python310\\lib\\site-packages (from requests<3,>=2->langchain==0.0.206->-r requirements.txt (line 1)) (3.4)\n",
      "Requirement already satisfied: urllib3<3,>=1.21.1 in c:\\users\\mr darklord\\appdata\\local\\programs\\python\\python310\\lib\\site-packages (from requests<3,>=2->langchain==0.0.206->-r requirements.txt (line 1)) (1.26.15)\n",
      "Requirement already satisfied: certifi>=2017.4.17 in c:\\users\\mr darklord\\appdata\\local\\programs\\python\\python310\\lib\\site-packages (from requests<3,>=2->langchain==0.0.206->-r requirements.txt (line 1)) (2023.5.7)\n",
      "Requirement already satisfied: greenlet!=0.4.17 in c:\\users\\mr darklord\\appdata\\local\\programs\\python\\python310\\lib\\site-packages (from SQLAlchemy<3,>=1.4->langchain==0.0.206->-r requirements.txt (line 1)) (2.0.2)\n",
      "Requirement already satisfied: colorama in c:\\users\\mr darklord\\appdata\\local\\programs\\python\\python310\\lib\\site-packages (from tqdm->openai==0.27.8->-r requirements.txt (line 2)) (0.4.6)\n",
      "Requirement already satisfied: packaging>=17.0 in c:\\users\\mr darklord\\appdata\\local\\programs\\python\\python310\\lib\\site-packages (from marshmallow<4.0.0,>=3.3.0->dataclasses-json<0.6.0,>=0.5.7->langchain==0.0.206->-r requirements.txt (line 1)) (23.1)\n",
      "Requirement already satisfied: mypy-extensions>=0.3.0 in c:\\users\\mr darklord\\appdata\\local\\programs\\python\\python310\\lib\\site-packages (from typing-inspect>=0.4.0->dataclasses-json<0.6.0,>=0.5.7->langchain==0.0.206->-r requirements.txt (line 1)) (1.0.0)\n"
     ]
    }
   ],
   "source": [
    "!pip install -r requirements.txt"
   ]
  },
  {
   "cell_type": "code",
   "execution_count": 39,
   "metadata": {},
   "outputs": [],
   "source": [
    "import os\n",
    "from langchain import PromptTemplate, OpenAI, LLMChain\n",
    "from langchain.output_parsers import CommaSeparatedListOutputParser\n",
    "\n",
    "os.environ['OPENAI_API_KEY'] = \"Enter your api key here .............\""
   ]
  },
  {
   "cell_type": "code",
   "execution_count": 40,
   "metadata": {},
   "outputs": [
    {
     "name": "stdout",
     "output_type": "stream",
     "text": [
      "\n",
      "\n",
      "\u001b[1m> Entering new  chain...\u001b[0m\n",
      "Prompt after formatting:\n",
      "\u001b[32;1m\u001b[1;3mWhat is a good name for a company that makes colorful socks?\u001b[0m\n",
      "\n",
      "\u001b[1m> Finished chain.\u001b[0m\n"
     ]
    },
    {
     "data": {
      "text/plain": [
       "{'product': 'colorful socks', 'text': '\\n\\nSocktastic!'}"
      ]
     },
     "execution_count": 40,
     "metadata": {},
     "output_type": "execute_result"
    }
   ],
   "source": [
    "prompt_template = \"What is a good name for a company that makes {product}?\"\n",
    "\n",
    "llm = OpenAI(temperature=0)\n",
    "llm_chain = LLMChain(\n",
    "    llm=llm,\n",
    "    prompt=PromptTemplate.from_template(prompt_template),\n",
    "    verbose = True\n",
    ")\n",
    "llm_chain(\"colorful socks\")"
   ]
  },
  {
   "cell_type": "code",
   "execution_count": 41,
   "metadata": {},
   "outputs": [
    {
     "data": {
      "text/plain": [
       "LLMResult(generations=[[Generation(text='\\n\\nCozy Toes Socks.', generation_info={'finish_reason': 'stop', 'logprobs': None})], [Generation(text='\\n\\nTechCore Solutions.', generation_info={'finish_reason': 'stop', 'logprobs': None})], [Generation(text='\\n\\nFootwear Factory.', generation_info={'finish_reason': 'stop', 'logprobs': None})]], llm_output={'token_usage': {'completion_tokens': 21, 'total_tokens': 57, 'prompt_tokens': 36}, 'model_name': 'text-davinci-003'}, run=RunInfo(run_id=UUID('ee36e132-a1ff-4341-bda8-f0e9753f9191')))"
      ]
     },
     "execution_count": 41,
     "metadata": {},
     "output_type": "execute_result"
    }
   ],
   "source": [
    "# Additional ways of running LLM Chain \n",
    "input_list = [\n",
    "    {\"product\": \"socks\"},\n",
    "    {\"product\": \"computer\"},\n",
    "    {\"product\": \"shoes\"}\n",
    "]\n",
    "\n",
    "# print(llm_chain.apply(input_list))\n",
    "\n",
    "# Generate gives a detailed output\n",
    "llm_chain.generate(input_list)"
   ]
  },
  {
   "cell_type": "code",
   "execution_count": 42,
   "metadata": {},
   "outputs": [
    {
     "name": "stdout",
     "output_type": "stream",
     "text": [
      "\n",
      "\n",
      "\u001b[1m> Entering new  chain...\u001b[0m\n",
      "Prompt after formatting:\n",
      "\u001b[32;1m\u001b[1;3mWhat is a good name for a company that makes colorful socks?\u001b[0m\n",
      "\n",
      "\u001b[1m> Finished chain.\u001b[0m\n"
     ]
    },
    {
     "data": {
      "text/plain": [
       "'\\n\\nSocktastic!'"
      ]
     },
     "execution_count": 42,
     "metadata": {},
     "output_type": "execute_result"
    }
   ],
   "source": [
    "# Single input example\n",
    "llm_chain.predict(product=\"colorful socks\")"
   ]
  },
  {
   "cell_type": "code",
   "execution_count": 43,
   "metadata": {},
   "outputs": [
    {
     "data": {
      "text/plain": [
       "'\\n\\nQ: What did the duck say when his friend died?\\nA: Quack, quack, goodbye.'"
      ]
     },
     "execution_count": 43,
     "metadata": {},
     "output_type": "execute_result"
    }
   ],
   "source": [
    "# Multiple inputs example\n",
    "template = \"\"\"Tell me a {adjective} joke about {subject}.\"\"\"\n",
    "prompt = PromptTemplate(template=template, input_variables=[\"adjective\", \"subject\"])\n",
    "llm_chain = LLMChain(prompt=prompt, llm=OpenAI(temperature=0))\n",
    "\n",
    "llm_chain.predict(adjective=\"sad\", subject=\"ducks\")\n"
   ]
  },
  {
   "cell_type": "code",
   "execution_count": 44,
   "metadata": {},
   "outputs": [
    {
     "data": {
      "text/plain": [
       "'\\n\\nRed, orange, yellow, green, blue, indigo, violet'"
      ]
     },
     "execution_count": 44,
     "metadata": {},
     "output_type": "execute_result"
    }
   ],
   "source": [
    "# Parsing the outputs\n",
    "output_parser = CommaSeparatedListOutputParser()\n",
    "template = \"\"\"List all the colors in a rainbow\"\"\"\n",
    "prompt = PromptTemplate(template=template, input_variables=[], output_parser=output_parser)\n",
    "llm_chain = LLMChain(prompt=prompt, llm=llm)\n",
    "\n",
    "\n",
    "llm_chain.predict()"
   ]
  },
  {
   "cell_type": "code",
   "execution_count": 45,
   "metadata": {},
   "outputs": [
    {
     "data": {
      "text/plain": [
       "str"
      ]
     },
     "execution_count": 45,
     "metadata": {},
     "output_type": "execute_result"
    }
   ],
   "source": [
    "type(llm_chain.predict())"
   ]
  },
  {
   "cell_type": "code",
   "execution_count": 46,
   "metadata": {},
   "outputs": [
    {
     "data": {
      "text/plain": [
       "['Red', 'orange', 'yellow', 'green', 'blue', 'indigo', 'violet']"
      ]
     },
     "execution_count": 46,
     "metadata": {},
     "output_type": "execute_result"
    }
   ],
   "source": [
    "# predict_and_parse\n",
    "llm_chain.predict_and_parse()\n"
   ]
  },
  {
   "cell_type": "code",
   "execution_count": 47,
   "metadata": {},
   "outputs": [
    {
     "data": {
      "text/plain": [
       "list"
      ]
     },
     "execution_count": 47,
     "metadata": {},
     "output_type": "execute_result"
    }
   ],
   "source": [
    "type(llm_chain.predict_and_parse())"
   ]
  },
  {
   "cell_type": "code",
   "execution_count": 48,
   "metadata": {},
   "outputs": [
    {
     "data": {
      "text/plain": [
       "'\\n\\nQ: What did the duck say when his friend died?\\nA: Quack, quack, goodbye.'"
      ]
     },
     "execution_count": 48,
     "metadata": {},
     "output_type": "execute_result"
    }
   ],
   "source": [
    "# Initialize from string\n",
    "template = \"\"\"Tell me a {adjective} joke about {subject}.\"\"\"\n",
    "llm_chain = LLMChain.from_string(llm=llm, template=template)\n",
    "\n",
    "llm_chain.predict(adjective=\"sad\", subject=\"ducks\")"
   ]
  }
 ],
 "metadata": {
  "kernelspec": {
   "display_name": "Python 3.10.2 64-bit",
   "language": "python",
   "name": "python3"
  },
  "language_info": {
   "name": "python",
   "version": "3.10.2"
  },
  "orig_nbformat": 4,
  "vscode": {
   "interpreter": {
    "hash": "981cc7f460dc3ad49f1bbaadde9c38788d3b59d0c49edfce12f416a560823fea"
   }
  }
 },
 "nbformat": 4,
 "nbformat_minor": 2
}
